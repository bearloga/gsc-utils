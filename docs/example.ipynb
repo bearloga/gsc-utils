{
 "cells": [
  {
   "cell_type": "markdown",
   "metadata": {},
   "source": [
    "# Example of using GSC Utils\n",
    "\n",
    "In this demo, a set of pre-authorized credentials have been saved as .gsc-creds. Remember to be vigilant with permissions on this file. Use `chmod g-r .gsc-creds` to prevent users in your group from being able to read the file.\n",
    "\n",
    "Install the package from GitHub with:\n",
    "\n",
    "```\n",
    "pip3 install -U git+https://github.com/bearloga/gsc-utils.git\n",
    "```"
   ]
  },
  {
   "cell_type": "code",
   "execution_count": 1,
   "metadata": {},
   "outputs": [
    {
     "name": "stderr",
     "output_type": "stream",
     "text": [
      "\n",
      "You can find the source for Google Search Console Utilities at https://github.com/bearloga/gsc-utils\n",
      "\n"
     ]
    }
   ],
   "source": [
    "import os\n",
    "from gsc_utils import utils, sites, performance"
   ]
  },
  {
   "cell_type": "code",
   "execution_count": 2,
   "metadata": {},
   "outputs": [],
   "source": [
    "creds = utils.load_credentials(os.path.join('../cache', os.readlink('../cache/.gsc-creds')))"
   ]
  },
  {
   "cell_type": "code",
   "execution_count": 3,
   "metadata": {},
   "outputs": [
    {
     "data": {
      "text/html": [
       "<div>\n",
       "<style scoped>\n",
       "    .dataframe tbody tr th:only-of-type {\n",
       "        vertical-align: middle;\n",
       "    }\n",
       "\n",
       "    .dataframe tbody tr th {\n",
       "        vertical-align: top;\n",
       "    }\n",
       "\n",
       "    .dataframe thead th {\n",
       "        text-align: right;\n",
       "    }\n",
       "</style>\n",
       "<table border=\"1\" class=\"dataframe\">\n",
       "  <thead>\n",
       "    <tr style=\"text-align: right;\">\n",
       "      <th></th>\n",
       "      <th>siteUrl</th>\n",
       "    </tr>\n",
       "  </thead>\n",
       "  <tbody>\n",
       "    <tr>\n",
       "      <th>6</th>\n",
       "      <td>https://commons.m.wikimedia.org/</td>\n",
       "    </tr>\n",
       "    <tr>\n",
       "      <th>5</th>\n",
       "      <td>https://commons.wikimedia.org/</td>\n",
       "    </tr>\n",
       "  </tbody>\n",
       "</table>\n",
       "</div>"
      ],
      "text/plain": [
       "                            siteUrl\n",
       "6  https://commons.m.wikimedia.org/\n",
       "5    https://commons.wikimedia.org/"
      ]
     },
     "execution_count": 3,
     "metadata": {},
     "output_type": "execute_result"
    }
   ],
   "source": [
    "site_list = sites.list(creds)\n",
    "site_list.head(2)"
   ]
  },
  {
   "cell_type": "markdown",
   "metadata": {},
   "source": [
    "This particular set of credentials has access to Google Search Console data for the two variants of Wikimedia Commons website – desktop and mobile web."
   ]
  },
  {
   "cell_type": "code",
   "execution_count": 4,
   "metadata": {},
   "outputs": [],
   "source": [
    "site_urls = ['commons.wikimedia.org', 'commons.m.wikimedia.org']\n",
    "commons = performance.stats(creds, site_urls, '2019-12-31', '2020-01-01')"
   ]
  },
  {
   "cell_type": "code",
   "execution_count": 5,
   "metadata": {},
   "outputs": [
    {
     "data": {
      "text/plain": [
       "Index(['site', 'date', 'clicks', 'impressions', 'ctr', 'position'], dtype='object')"
      ]
     },
     "execution_count": 5,
     "metadata": {},
     "output_type": "execute_result"
    }
   ],
   "source": [
    "commons.columns"
   ]
  },
  {
   "cell_type": "markdown",
   "metadata": {},
   "source": [
    "Since the returned stats are a Pandas DataFrame, we can relatively easily calculate the difference in average position between the two days for each variant:"
   ]
  },
  {
   "cell_type": "code",
   "execution_count": 6,
   "metadata": {},
   "outputs": [
    {
     "data": {
      "text/html": [
       "<div>\n",
       "<style scoped>\n",
       "    .dataframe tbody tr th:only-of-type {\n",
       "        vertical-align: middle;\n",
       "    }\n",
       "\n",
       "    .dataframe tbody tr th {\n",
       "        vertical-align: top;\n",
       "    }\n",
       "\n",
       "    .dataframe thead th {\n",
       "        text-align: right;\n",
       "    }\n",
       "</style>\n",
       "<table border=\"1\" class=\"dataframe\">\n",
       "  <thead>\n",
       "    <tr style=\"text-align: right;\">\n",
       "      <th>date</th>\n",
       "      <th>difference</th>\n",
       "    </tr>\n",
       "    <tr>\n",
       "      <th>site</th>\n",
       "      <th></th>\n",
       "    </tr>\n",
       "  </thead>\n",
       "  <tbody>\n",
       "    <tr>\n",
       "      <th>https://commons.m.wikimedia.org/</th>\n",
       "      <td>0.086509</td>\n",
       "    </tr>\n",
       "    <tr>\n",
       "      <th>https://commons.wikimedia.org/</th>\n",
       "      <td>0.041977</td>\n",
       "    </tr>\n",
       "  </tbody>\n",
       "</table>\n",
       "</div>"
      ],
      "text/plain": [
       "date                              difference\n",
       "site                                        \n",
       "https://commons.m.wikimedia.org/    0.086509\n",
       "https://commons.wikimedia.org/      0.041977"
      ]
     },
     "execution_count": 6,
     "metadata": {},
     "output_type": "execute_result"
    }
   ],
   "source": [
    "(\n",
    "    commons[['site', 'date', 'position']]\n",
    "    .pivot(index='site', columns='date', values='position')\n",
    "    .assign(difference=lambda df: df['2020-01-01']-df['2019-12-31'])\n",
    "    .drop(columns = ['2020-01-01', '2019-12-31'])\n",
    ")"
   ]
  },
  {
   "cell_type": "markdown",
   "metadata": {},
   "source": [
    "On New Year's Day both variants appeared slightly lower in search results than they did on New Year's Eve, on average.\n",
    "\n",
    "## Additional functionality\n",
    "\n",
    "The function `fetch.stats()` has a `split_by` argument which can be used to get a breakdown of the stats broken down by one or two dimensions:\n",
    "\n",
    "- `split_by=None` (default) just returns daily counts\n",
    "- `split_by='country'` splits by ISO 3166-1 alpha-3 country code\n",
    "- `split_by='device'` splits by device (Desktop, Tablet, Mobile)\n",
    "- `split_by='country-device'` splits by device *and* ISO 3166-1 alpha-3 country code\n",
    "\n",
    "By default, `fetch.stats()` has `use_https=True` because almost all of the properties in GSC are HTTPS and only few non-secure variants are still tracked. Set it to `False` when you need the HTTP variant (assuming it's registered in there).\n",
    "\n",
    "For sites (properties) which have [structured data](https://developers.google.com/search/docs/guides/intro-structured-data), you can obtain statistics for rich card results only by setting `rich_results=True` (`False` by default). Be aware that:\n",
    "\n",
    "> Dimensioning or filtering by search appearance will aggregate data by page rather than by property in the table\n",
    "\n",
    "Refer to [official documentation](https://support.google.com/webmasters/answer/7576553?hl=en&ref_topic=9384513) for more information."
   ]
  }
 ],
 "metadata": {
  "kernelspec": {
   "display_name": "Python 3",
   "language": "python",
   "name": "python3"
  },
  "language_info": {
   "codemirror_mode": {
    "name": "ipython",
    "version": 3
   },
   "file_extension": ".py",
   "mimetype": "text/x-python",
   "name": "python",
   "nbconvert_exporter": "python",
   "pygments_lexer": "ipython3",
   "version": "3.5.3"
  }
 },
 "nbformat": 4,
 "nbformat_minor": 4
}
